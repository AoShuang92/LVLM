{
 "cells": [
  {
   "cell_type": "code",
   "execution_count": 1,
   "id": "469ee6a2-b1c1-47fe-b943-5ca47de7e8ec",
   "metadata": {},
   "outputs": [
    {
     "data": {
      "text/plain": [
       "(Dataset({\n",
       "     features: ['multiple_choice_answer', 'question', 'image'],\n",
       "     num_rows: 214\n",
       " }),\n",
       " {'multiple_choice_answer': 'carnival ride',\n",
       "  'question': 'Where are the kids riding?',\n",
       "  'image': <PIL.JpegImagePlugin.JpegImageFile image mode=RGB size=640x424>})"
      ]
     },
     "execution_count": 1,
     "metadata": {},
     "output_type": "execute_result"
    }
   ],
   "source": [
    "from datasets import load_dataset\n",
    "ds = load_dataset(\"merve/vqav2-small\",split=\"validation[:1%]\")\n",
    "ds, ds[0]"
   ]
  },
  {
   "cell_type": "code",
   "execution_count": 1,
   "id": "2b2c7cdc-a4ac-4a23-8a2f-01d5da12a03a",
   "metadata": {},
   "outputs": [
    {
     "name": "stdout",
     "output_type": "stream",
     "text": [
      "/home/sa5u24/VQA\n"
     ]
    }
   ],
   "source": [
    "import os\n",
    "os.environ['HF_HOME'] = '/home/sa5u24/VQA'\n",
    "hf_home = os.path.expanduser(\n",
    "    os.getenv(\"HF_HOME\", os.path.join(os.getenv(\"XDG_CACHE_HOME\", \"~/.cache\"), \"huggingface\"))\n",
    ")\n",
    "print(hf_home)\n"
   ]
  },
  {
   "cell_type": "code",
   "execution_count": 2,
   "id": "5cfdba75-9ccc-4382-9125-452156132ea2",
   "metadata": {},
   "outputs": [],
   "source": [
    "# note the image is not provided in the prompt its included as part of the \"processor\"\n",
    "\n",
    "# prompt= \"\"\"Create a Short Product description based on the provided ##PRODUCT NAME## and ##CATEGORY## and image.\n",
    "# Only return description. The description should be SEO optimized and for a better mobile search experience.\n",
    "\n",
    "# ##PRODUCT NAME##: {product_name}\n",
    "# ##CATEGORY##: {category}\"\"\"\n",
    "\n",
    "prompt= \"\"\"Answer the question based on the provided ##Question## and image. ##Question##: {question}.\"\"\"\n",
    "\n",
    "from datasets import load_dataset\n",
    "\n",
    "# Convert dataset to OAI messages\n",
    "def format_data(sample):\n",
    "    return {\"messages\": [\n",
    "                {\n",
    "                    \"role\": \"question\",\n",
    "                    \"content\": [\n",
    "                        {\n",
    "                            \"type\": \"text\",\n",
    "                            \"text\": prompt.format(question=sample[\"question\"]),\n",
    "                        },{\n",
    "                            \"type\": \"image\",\n",
    "                            \"image\": sample[\"image\"],\n",
    "                        }\n",
    "                    ],\n",
    "                },\n",
    "                {\n",
    "                    \"role\": \"answer\",\n",
    "                    \"content\": [{\"type\": \"text\", \"text\": sample[\"multiple_choice_answer\"]}],\n",
    "                },\n",
    "            ],\n",
    "        }\n",
    "\n",
    "# Load dataset from the hub\n",
    "ds_train = load_dataset(\"merve/vqav2-small\",split=\"validation[:1%]\")\n",
    "ds_val = load_dataset(\"merve/vqav2-small\",split=\"validation[99%:]\")\n",
    "# Convert dataset to OAI messages\n",
    "# need to use list comprehension to keep Pil.Image type, .mape convert image to bytes\n",
    "dataset_train = [format_data(sample) for sample in ds_train]\n",
    "dataset_val = [format_data(sample) for sample in ds_val]\n"
   ]
  },
  {
   "cell_type": "code",
   "execution_count": 3,
   "id": "d98ab15e-25f7-4f78-8197-74112068bcd4",
   "metadata": {},
   "outputs": [
    {
     "data": {
      "text/plain": [
       "([{'role': 'question',\n",
       "   'content': [{'type': 'text',\n",
       "     'text': 'Answer the question based on the provided ##Question## and image. ##Question##: What type of weather is there?.'},\n",
       "    {'type': 'image',\n",
       "     'image': <PIL.JpegImagePlugin.JpegImageFile image mode=RGB size=480x640>}]},\n",
       "  {'role': 'answer', 'content': [{'type': 'text', 'text': 'sunny'}]}],\n",
       " 214,\n",
       " 214)"
      ]
     },
     "execution_count": 3,
     "metadata": {},
     "output_type": "execute_result"
    }
   ],
   "source": [
    "dataset_val[0][\"messages\"], len(dataset_train), len(dataset_val)"
   ]
  },
  {
   "cell_type": "code",
   "execution_count": 4,
   "id": "41d1b35e-5213-4d34-80fb-8ff9c4f954fd",
   "metadata": {},
   "outputs": [
    {
     "name": "stderr",
     "output_type": "stream",
     "text": [
      "The model weights are not tied. Please use the `tie_weights` method before using the `infer_auto_device` function.\n"
     ]
    },
    {
     "data": {
      "application/vnd.jupyter.widget-view+json": {
       "model_id": "eb6ebee0cbab405e9d4a4d39ff9ee8aa",
       "version_major": 2,
       "version_minor": 0
      },
      "text/plain": [
       "Loading checkpoint shards:   0%|          | 0/5 [00:00<?, ?it/s]"
      ]
     },
     "metadata": {},
     "output_type": "display_data"
    }
   ],
   "source": [
    "import torch\n",
    "from transformers import AutoModelForVision2Seq, AutoProcessor, BitsAndBytesConfig\n",
    "PYTORCH_CUDA_ALLOC_CONF=True\n",
    "from peft import LoraConfig, get_peft_model, PeftModel\n",
    "from transformers import Qwen2VLProcessor\n",
    "from qwen_vl_utils import process_vision_info\n",
    "from trl import SFTConfig\n",
    "\n",
    "\n",
    "\n",
    "# Hugging Face model id\n",
    "model_id = \"meta-llama/Llama-3.2-11B-Vision-Instruct\"\n",
    "\n",
    "# BitsAndBytesConfig int-4 config\n",
    "bnb_config = BitsAndBytesConfig(\n",
    "    load_in_4bit=True, bnb_4bit_use_double_quant=True, bnb_4bit_quant_type=\"nf4\", bnb_4bit_compute_dtype=torch.bfloat16\n",
    ")\n",
    "\n",
    "# Load model and tokenizer\n",
    "model = AutoModelForVision2Seq.from_pretrained(\n",
    "    model_id,\n",
    "    device_map=\"auto\",\n",
    "    # attn_implementation=\"flash_attention_2\", # not supported for training\n",
    "    torch_dtype=torch.bfloat16,\n",
    "    quantization_config=bnb_config\n",
    ")\n",
    "processor = AutoProcessor.from_pretrained(model_id)\n",
    "\n",
    "# LoRA config based on QLoRA paper & Sebastian Raschka experiment\n",
    "peft_config = LoraConfig(\n",
    "        lora_alpha=16,\n",
    "        lora_dropout=0.05,\n",
    "        r=8,\n",
    "        bias=\"none\",\n",
    "        target_modules=[\"q_proj\", \"v_proj\"],\n",
    "        task_type=\"CAUSAL_LM\",\n",
    ")\n",
    "\n",
    "# adding lora layers in the model, with random initialized weights \n",
    "model_lora_v0 = get_peft_model(model, peft_config)\n",
    "# print(\"model weight\", model_lora_v0.base_model.model.vision_model.transformer.layers[0].self_attn.q_proj.lora_A.default.weight)\n",
    "\n",
    "\n",
    "#load the lora weights\n",
    "lora_path = \"/home/sa5u24/VQA/fine-tuned-visionllama/checkpoint-6\"\n",
    "model_lora = PeftModel.from_pretrained(model_lora_v0, lora_path)\n",
    "\n",
    "args = SFTConfig(\n",
    "    output_dir=\"fine-tuned-visionllama\", # directory to save and repository id\n",
    "    num_train_epochs=1,                     # number of training epochs\n",
    "    per_device_train_batch_size=1,          # batch size per device during training\n",
    "    gradient_accumulation_steps=8,          # number of steps before performing a backward/update pass\n",
    "    gradient_checkpointing=True,            # use gradient checkpointing to save memory\n",
    "    optim=\"adamw_torch_fused\",              # use fused adamw optimizer\n",
    "    logging_steps=5,                       # log every 10 steps\n",
    "    save_strategy=\"epoch\",                  # save checkpoint every epoch\n",
    "    learning_rate=2e-4,                     # learning rate, based on QLoRA paper\n",
    "    bf16=True,                              # use bfloat16 precision\n",
    "    # tf32=True,                              # use tf32 precision\n",
    "    max_grad_norm=0.3,                      # max gradient norm based on QLoRA paper\n",
    "    warmup_ratio=0.03,                      # warmup ratio based on QLoRA paper\n",
    "    lr_scheduler_type=\"constant\",           # use constant learning rate scheduler\n",
    "    # push_to_hub=True,                       # push model to hub\n",
    "    report_to=\"tensorboard\",                # report metrics to tensorboard\n",
    "    gradient_checkpointing_kwargs = {\"use_reentrant\": False}, # use reentrant checkpointing\n",
    "    dataset_text_field=\"\", # need a dummy field for collator\n",
    "    dataset_kwargs = {\"skip_prepare_dataset\": True} # important for collator\n",
    ")\n",
    "args.remove_unused_columns=False\n",
    "\n",
    "def collate_fn(examples):\n",
    "    # Get the texts and images, and apply the chat template\n",
    "    texts = [processor.apply_chat_template(example[\"messages\"], tokenize=False) for example in examples]\n",
    "    image_inputs = [process_vision_info(example[\"messages\"])[0] for example in examples]\n",
    "\n",
    "    # Tokenize the texts and process the images\n",
    "    batch = processor(text=texts, images=image_inputs, return_tensors=\"pt\", padding=True)\n",
    "    # print(\"batch\", batch.input_ids.size(), batch.pixel_values.size())\n",
    "    # ([8, 43]) torch.Size([8, 1, 4, 3, 560, 560])\n",
    "    # print(\"batch\", batch.keys()) \n",
    "    # batch dict_keys(['input_ids', 'attention_mask', 'pixel_values', 'aspect_ratio_ids', 'aspect_ratio_mask', 'cross_attention_mask'])\n",
    "\n",
    "    # The labels are the input_ids, and we mask the padding tokens in the loss computation\n",
    "    labels = batch[\"input_ids\"].clone()\n",
    "    labels[labels == processor.tokenizer.pad_token_id] = -100  #\n",
    "    # Ignore the image token index in the loss computation (model specific)\n",
    "    if isinstance(processor, Qwen2VLProcessor):\n",
    "        image_tokens = [151652,151653,151655]\n",
    "    else:\n",
    "        image_tokens = [processor.tokenizer.convert_tokens_to_ids(processor.image_token)]\n",
    "    for image_token_id in image_tokens:\n",
    "        labels[labels == image_token_id] = -100\n",
    "    batch[\"labels\"] = labels\n",
    "\n",
    "    return batch\n",
    "\n"
   ]
  },
  {
   "cell_type": "code",
   "execution_count": 5,
   "id": "9455476c-0336-4278-9bbb-8e316fa209d7",
   "metadata": {},
   "outputs": [
    {
     "name": "stderr",
     "output_type": "stream",
     "text": [
      "[nltk_data] Downloading package wordnet to /home/sa5u24/nltk_data...\n",
      "[nltk_data]   Package wordnet is already up-to-date!\n",
      "[nltk_data] Downloading package punkt_tab to /home/sa5u24/nltk_data...\n",
      "[nltk_data]   Package punkt_tab is already up-to-date!\n",
      "A decoder-only architecture is being used, but right-padding was detected! For correct generation results, please set `padding_side='left'` when initializing the tokenizer.\n",
      "A decoder-only architecture is being used, but right-padding was detected! For correct generation results, please set `padding_side='left'` when initializing the tokenizer.\n",
      "A decoder-only architecture is being used, but right-padding was detected! For correct generation results, please set `padding_side='left'` when initializing the tokenizer.\n",
      "A decoder-only architecture is being used, but right-padding was detected! For correct generation results, please set `padding_side='left'` when initializing the tokenizer.\n",
      "A decoder-only architecture is being used, but right-padding was detected! For correct generation results, please set `padding_side='left'` when initializing the tokenizer.\n",
      "A decoder-only architecture is being used, but right-padding was detected! For correct generation results, please set `padding_side='left'` when initializing the tokenizer.\n",
      "A decoder-only architecture is being used, but right-padding was detected! For correct generation results, please set `padding_side='left'` when initializing the tokenizer.\n",
      "A decoder-only architecture is being used, but right-padding was detected! For correct generation results, please set `padding_side='left'` when initializing the tokenizer.\n",
      "A decoder-only architecture is being used, but right-padding was detected! For correct generation results, please set `padding_side='left'` when initializing the tokenizer.\n",
      "A decoder-only architecture is being used, but right-padding was detected! For correct generation results, please set `padding_side='left'` when initializing the tokenizer.\n",
      "A decoder-only architecture is being used, but right-padding was detected! For correct generation results, please set `padding_side='left'` when initializing the tokenizer.\n",
      "A decoder-only architecture is being used, but right-padding was detected! For correct generation results, please set `padding_side='left'` when initializing the tokenizer.\n",
      "A decoder-only architecture is being used, but right-padding was detected! For correct generation results, please set `padding_side='left'` when initializing the tokenizer.\n",
      "A decoder-only architecture is being used, but right-padding was detected! For correct generation results, please set `padding_side='left'` when initializing the tokenizer.\n",
      "A decoder-only architecture is being used, but right-padding was detected! For correct generation results, please set `padding_side='left'` when initializing the tokenizer.\n",
      "A decoder-only architecture is being used, but right-padding was detected! For correct generation results, please set `padding_side='left'` when initializing the tokenizer.\n",
      "A decoder-only architecture is being used, but right-padding was detected! For correct generation results, please set `padding_side='left'` when initializing the tokenizer.\n",
      "A decoder-only architecture is being used, but right-padding was detected! For correct generation results, please set `padding_side='left'` when initializing the tokenizer.\n",
      "A decoder-only architecture is being used, but right-padding was detected! For correct generation results, please set `padding_side='left'` when initializing the tokenizer.\n",
      "A decoder-only architecture is being used, but right-padding was detected! For correct generation results, please set `padding_side='left'` when initializing the tokenizer.\n",
      "A decoder-only architecture is being used, but right-padding was detected! For correct generation results, please set `padding_side='left'` when initializing the tokenizer.\n",
      "A decoder-only architecture is being used, but right-padding was detected! For correct generation results, please set `padding_side='left'` when initializing the tokenizer.\n",
      "A decoder-only architecture is being used, but right-padding was detected! For correct generation results, please set `padding_side='left'` when initializing the tokenizer.\n",
      "A decoder-only architecture is being used, but right-padding was detected! For correct generation results, please set `padding_side='left'` when initializing the tokenizer.\n",
      "A decoder-only architecture is being used, but right-padding was detected! For correct generation results, please set `padding_side='left'` when initializing the tokenizer.\n",
      "A decoder-only architecture is being used, but right-padding was detected! For correct generation results, please set `padding_side='left'` when initializing the tokenizer.\n",
      "A decoder-only architecture is being used, but right-padding was detected! For correct generation results, please set `padding_side='left'` when initializing the tokenizer.\n",
      "A decoder-only architecture is being used, but right-padding was detected! For correct generation results, please set `padding_side='left'` when initializing the tokenizer.\n",
      "A decoder-only architecture is being used, but right-padding was detected! For correct generation results, please set `padding_side='left'` when initializing the tokenizer.\n",
      "A decoder-only architecture is being used, but right-padding was detected! For correct generation results, please set `padding_side='left'` when initializing the tokenizer.\n",
      "A decoder-only architecture is being used, but right-padding was detected! For correct generation results, please set `padding_side='left'` when initializing the tokenizer.\n",
      "A decoder-only architecture is being used, but right-padding was detected! For correct generation results, please set `padding_side='left'` when initializing the tokenizer.\n",
      "A decoder-only architecture is being used, but right-padding was detected! For correct generation results, please set `padding_side='left'` when initializing the tokenizer.\n",
      "A decoder-only architecture is being used, but right-padding was detected! For correct generation results, please set `padding_side='left'` when initializing the tokenizer.\n",
      "A decoder-only architecture is being used, but right-padding was detected! For correct generation results, please set `padding_side='left'` when initializing the tokenizer.\n",
      "A decoder-only architecture is being used, but right-padding was detected! For correct generation results, please set `padding_side='left'` when initializing the tokenizer.\n",
      "A decoder-only architecture is being used, but right-padding was detected! For correct generation results, please set `padding_side='left'` when initializing the tokenizer.\n",
      "A decoder-only architecture is being used, but right-padding was detected! For correct generation results, please set `padding_side='left'` when initializing the tokenizer.\n",
      "A decoder-only architecture is being used, but right-padding was detected! For correct generation results, please set `padding_side='left'` when initializing the tokenizer.\n",
      "A decoder-only architecture is being used, but right-padding was detected! For correct generation results, please set `padding_side='left'` when initializing the tokenizer.\n",
      "A decoder-only architecture is being used, but right-padding was detected! For correct generation results, please set `padding_side='left'` when initializing the tokenizer.\n",
      "A decoder-only architecture is being used, but right-padding was detected! For correct generation results, please set `padding_side='left'` when initializing the tokenizer.\n",
      "A decoder-only architecture is being used, but right-padding was detected! For correct generation results, please set `padding_side='left'` when initializing the tokenizer.\n",
      "A decoder-only architecture is being used, but right-padding was detected! For correct generation results, please set `padding_side='left'` when initializing the tokenizer.\n",
      "A decoder-only architecture is being used, but right-padding was detected! For correct generation results, please set `padding_side='left'` when initializing the tokenizer.\n",
      "A decoder-only architecture is being used, but right-padding was detected! For correct generation results, please set `padding_side='left'` when initializing the tokenizer.\n",
      "A decoder-only architecture is being used, but right-padding was detected! For correct generation results, please set `padding_side='left'` when initializing the tokenizer.\n",
      "A decoder-only architecture is being used, but right-padding was detected! For correct generation results, please set `padding_side='left'` when initializing the tokenizer.\n",
      "A decoder-only architecture is being used, but right-padding was detected! For correct generation results, please set `padding_side='left'` when initializing the tokenizer.\n",
      "A decoder-only architecture is being used, but right-padding was detected! For correct generation results, please set `padding_side='left'` when initializing the tokenizer.\n",
      "A decoder-only architecture is being used, but right-padding was detected! For correct generation results, please set `padding_side='left'` when initializing the tokenizer.\n",
      "A decoder-only architecture is being used, but right-padding was detected! For correct generation results, please set `padding_side='left'` when initializing the tokenizer.\n",
      "A decoder-only architecture is being used, but right-padding was detected! For correct generation results, please set `padding_side='left'` when initializing the tokenizer.\n",
      "A decoder-only architecture is being used, but right-padding was detected! For correct generation results, please set `padding_side='left'` when initializing the tokenizer.\n"
     ]
    }
   ],
   "source": [
    "import nltk\n",
    "nltk.download('wordnet')\n",
    "import re\n",
    "from torch.utils.data import DataLoader, Dataset\n",
    "import evaluate\n",
    "from nltk.translate.meteor_score import meteor_score, single_meteor_score\n",
    "from nltk.translate.bleu_score import sentence_bleu, corpus_bleu\n",
    "from nltk.tokenize import word_tokenize\n",
    "nltk.download('punkt_tab')\n",
    "import warnings\n",
    "warnings.filterwarnings(\"ignore\", category=UserWarning)\n",
    "\n",
    "rouge = evaluate.load(\"rouge\")\n",
    "\n",
    "batch_size = 4\n",
    "dataloader_train = DataLoader(dataset_train, batch_size=batch_size, shuffle = False, collate_fn=collate_fn)\n",
    "dataloader_val = DataLoader(dataset_val, batch_size=batch_size, shuffle = False, collate_fn=collate_fn)\n",
    "\n",
    "all_gt = []\n",
    "all_gens = []\n",
    "\n",
    "all_gt_ = []\n",
    "all_gens_ = []\n",
    "unk_gt_count = 0\n",
    "\n",
    "model_lora.eval()\n",
    "with torch.no_grad():\n",
    "    for batch in dataloader_val:\n",
    "        \n",
    "        output = model_lora.generate(**batch, max_new_tokens=30, eos_token_id=processor.tokenizer.eos_token_id)\n",
    "        # print(\"output\", len(output),output.size() )\n",
    "        # print(\"label\",batch['labels'] )\n",
    "\n",
    "        generation = processor.batch_decode(output, skip_special_tokens=True)\n",
    "        # print(\"batch_decode\", len(generation), type(generation) )\n",
    "\n",
    "        for each_gen in generation:\n",
    "            #only the generated answer\n",
    "            gen_ans = each_gen.split(\"assistant\")[-1].strip()\n",
    "            \n",
    "            try:\n",
    "                gt = re.search('answer\\n\\n(.*)assistant', each_gen).group(1)\n",
    "            except:\n",
    "                gt = \"\"\n",
    "                unk_gt_count+=1\n",
    "            \n",
    "            all_gens.append(gen_ans)\n",
    "            all_gt.append(gt)\n",
    "            \n",
    "            all_gens_.append(gen_ans.split())\n",
    "            all_gt_.append([gt.split()])\n",
    "            \n",
    "        rouge_results = rouge.compute(predictions=all_gens, references=all_gt)\n",
    "        \n",
    "        m_score=0\n",
    "        for line in zip(all_gt, all_gens):\n",
    "            ref = word_tokenize(line[0])\n",
    "            hypo = word_tokenize(line[1])\n",
    "            m_score += meteor_score([ref], hypo)\n",
    "        meteors = m_score/len(all_gt)\n",
    "        bleu_score = corpus_bleu(all_gt_, all_gens_, weights=(1.0, 0.0, 0.0, 0.0))\n",
    "        \n",
    "            \n",
    "    \n"
   ]
  },
  {
   "cell_type": "code",
   "execution_count": 6,
   "id": "b207bd90-6b13-4dcd-84aa-27baa2b1966b",
   "metadata": {},
   "outputs": [
    {
     "data": {
      "text/plain": [
       "({'rouge1': 0.1386054256046663,\n",
       "  'rouge2': 0.015633266143595705,\n",
       "  'rougeL': 0.13763483870768017,\n",
       "  'rougeLsum': 0.13837150536622814},\n",
       " 0.17988559812911947,\n",
       " 0.022629310344827583)"
      ]
     },
     "execution_count": 6,
     "metadata": {},
     "output_type": "execute_result"
    }
   ],
   "source": [
    "rouge_results, meteors, bleu_score"
   ]
  },
  {
   "cell_type": "code",
   "execution_count": 6,
   "id": "ea01b353-68dd-4751-a4a7-87b6efb446fc",
   "metadata": {},
   "outputs": [
    {
     "data": {
      "text/plain": [
       "(214,\n",
       " 214,\n",
       " 'The image shows people in the background, but they are not skiing. They are standing on a snowy hill, but there is no',\n",
       " 'no',\n",
       " 4)"
      ]
     },
     "execution_count": 6,
     "metadata": {},
     "output_type": "execute_result"
    }
   ],
   "source": [
    "len(all_gens), len(all_gt), all_gens[1], all_gt[1], unk_gt_count"
   ]
  },
  {
   "cell_type": "code",
   "execution_count": 7,
   "id": "1668d287-c23f-4055-9eea-43bc53fe5bdf",
   "metadata": {},
   "outputs": [
    {
     "data": {
      "text/plain": [
       "{'rouge1': 0.1481178710314811,\n",
       " 'rouge2': 0.0156487437795849,\n",
       " 'rougeL': 0.14743072392524897,\n",
       " 'rougeLsum': 0.1475788670914207}"
      ]
     },
     "execution_count": 7,
     "metadata": {},
     "output_type": "execute_result"
    }
   ],
   "source": [
    "rouge_results = rouge.compute(predictions=all_gens, references=all_gt)\n",
    "rouge_results"
   ]
  },
  {
   "cell_type": "code",
   "execution_count": 8,
   "id": "08ef9ad4-5343-4c19-89e8-da7ce0905462",
   "metadata": {},
   "outputs": [
    {
     "name": "stderr",
     "output_type": "stream",
     "text": [
      "[nltk_data] Downloading package punkt_tab to /home/sa5u24/nltk_data...\n",
      "[nltk_data]   Package punkt_tab is already up-to-date!\n"
     ]
    },
    {
     "name": "stdout",
     "output_type": "stream",
     "text": [
      "meteor_score 0.18524082550328952\n"
     ]
    }
   ],
   "source": [
    "from nltk.translate.meteor_score import meteor_score, single_meteor_score\n",
    "from nltk.tokenize import word_tokenize\n",
    "nltk.download('punkt_tab')\n",
    "m_score=0\n",
    "for line in zip(all_gt, all_gens):\n",
    "    ref = word_tokenize(line[0])\n",
    "    hypo = word_tokenize(line[1])\n",
    "    m_score += meteor_score([ref], hypo)\n",
    "\n",
    "print(\"meteor_score\", m_score/len(all_gt))"
   ]
  },
  {
   "cell_type": "code",
   "execution_count": 9,
   "id": "8e1977ad-e495-4e81-b9d9-fa87482b0d44",
   "metadata": {},
   "outputs": [
    {
     "name": "stdout",
     "output_type": "stream",
     "text": [
      "bleu_score 0.022238425082026978\n"
     ]
    }
   ],
   "source": [
    "from nltk.translate.bleu_score import corpus_bleu\n",
    "bleu_score = corpus_bleu(all_gt_, all_gens_, weights=(1.0, 0.0, 0.0, 0.0))\n",
    "print(\"bleu_score\", bleu_score)"
   ]
  },
  {
   "cell_type": "code",
   "execution_count": null,
   "id": "d43ef892-faa2-4146-8b3b-1cf90235999e",
   "metadata": {},
   "outputs": [],
   "source": [
    "with lora pre-trained weight on val dataset\n",
    "\n",
    "{'rouge1': 0.15045387699529927,\n",
    " 'rouge2': 0.014528630766948526,\n",
    " 'rougeL': 0.14957247124561862,\n",
    " 'rougeLsum': 0.1492740451009666}\n",
    "meteor_score 0.18661183211828292\n",
    "bleu_score 0.023290203327171907\n",
    "\n",
    "with lora pre-trained weight on traindataset\n",
    "{'rouge1': 0.14348497273817096,\n",
    " 'rouge2': 0.023673930927080054,\n",
    " 'rougeL': 0.1435822234212641,\n",
    " 'rougeLsum': 0.14408427723443865}\n",
    "meteor_score 0.19548155570972522\n",
    "bleu_score 0.020076150917272415\n",
    "\n",
    "zeroshot on val dataset\n",
    "{'rouge1': 0.1481178710314811,\n",
    " 'rouge2': 0.0156487437795849,\n",
    " 'rougeL': 0.14743072392524897,\n",
    " 'rougeLsum': 0.1475788670914207}\n",
    "meteor_score 0.18524082550328952\n",
    "bleu_score 0.022238425082026978"
   ]
  },
  {
   "cell_type": "code",
   "execution_count": null,
   "id": "3fc1bfa2-a320-4347-8e16-28a4a42c8f5d",
   "metadata": {},
   "outputs": [],
   "source": []
  },
  {
   "cell_type": "code",
   "execution_count": null,
   "id": "9e00c01f-166d-415e-ae06-dacae7ed6aad",
   "metadata": {},
   "outputs": [],
   "source": []
  },
  {
   "cell_type": "code",
   "execution_count": 20,
   "id": "4da67435-073b-4026-a1ef-a57c8c4fcd51",
   "metadata": {},
   "outputs": [
    {
     "name": "stdout",
     "output_type": "stream",
     "text": [
      "Corpus BLEU score: 0.8408964152537145\n"
     ]
    }
   ],
   "source": [
    "from nltk.translate.bleu_score import corpus_bleu\n",
    "\n",
    "# List of reference sentences (ground truth)\n",
    "references = [\n",
    "    [[\"this\", \"is\", \"a\", \"test\"]],  # Multiple references for the first candidate\n",
    "    [[\"another\", \"test\", \"sentence\"]]  # Multiple references for the second candidate\n",
    "]\n",
    "\n",
    "# List of candidate sentences (model output)\n",
    "candidates = [\n",
    "    [\"this\", \"is\", \"a\", \"test\"],  # Candidate sentence 1\n",
    "    [\"another\", \"test\", \"sentence\"]  # Candidate sentence 2\n",
    "]\n",
    "\n",
    "# Calculate the BLEU score for the corpus\n",
    "bleu_score = corpus_bleu(references, candidates)\n",
    "\n",
    "print(\"Corpus BLEU score:\", bleu_score)"
   ]
  },
  {
   "cell_type": "code",
   "execution_count": null,
   "id": "8d8b414a-0f15-4b30-a780-1495e1736325",
   "metadata": {},
   "outputs": [],
   "source": []
  },
  {
   "cell_type": "code",
   "execution_count": null,
   "id": "6f237c31-c5fc-4bd9-996f-98755e4d6c0a",
   "metadata": {},
   "outputs": [],
   "source": []
  },
  {
   "cell_type": "code",
   "execution_count": 21,
   "id": "8c31893b-e6cd-4ee3-9067-22693e08b5ce",
   "metadata": {},
   "outputs": [
    {
     "name": "stderr",
     "output_type": "stream",
     "text": [
      "[nltk_data] Downloading package wordnet to /home/sa5u24/nltk_data...\n"
     ]
    },
    {
     "name": "stdout",
     "output_type": "stream",
     "text": [
      "BLEU_1:0.0000, BLEU_2:0.0000, BLEU_3:0.0000, BLEU_4:0.0000\n",
      "prec:0.0000, rec:0.0000, f1:0.0000, tp:0.0000\n",
      "Meteor:0.0000\n"
     ]
    }
   ],
   "source": [
    "import nltk\n",
    "nltk.download('wordnet')\n",
    "from nltk.translate.bleu_score import sentence_bleu\n",
    "from nltk.translate.chrf_score import chrf_precision_recall_fscore_support\n",
    "from nltk.translate.meteor_score import single_meteor_score\n",
    "import warnings\n",
    "warnings.filterwarnings(\"ignore\", category=UserWarning)\n",
    "\n",
    "BLEU_1 = sentence_bleu([gt.split()], gen_ans.split(), weights=(1, 0, 0, 0))\n",
    "BLEU_2 = sentence_bleu([gt.split()], gen_ans.split(), weights=(1, 1, 0, 0))\n",
    "BLEU_3 = sentence_bleu([gt.split()], gen_ans.split(), weights=(1, 1, 1, 0))\n",
    "BLEU_4 = sentence_bleu([gt.split()], gen_ans.split(), weights=(1, 1, 1, 1))\n",
    "\n",
    "print('BLEU_1:%.4f, BLEU_2:%.4f, BLEU_3:%.4f, BLEU_4:%.4f'%(BLEU_1, BLEU_2, BLEU_3, BLEU_4))\n",
    "\n",
    "prec, rec, f1, tp = chrf_precision_recall_fscore_support(gt.split(), gen_ans.split(), n=1)\n",
    "print('prec:%.4f, rec:%.4f, f1:%.4f, tp:%.4f'%(prec, rec, f1, tp))\n",
    "\n",
    "meteor = single_meteor_score(gt.split(), gen_ans.split())\n",
    "print('Meteor:%.4f'%meteor)\n",
    "\n"
   ]
  },
  {
   "cell_type": "code",
   "execution_count": null,
   "id": "be79871e-f6c9-4c90-82bf-3737604e0f7d",
   "metadata": {},
   "outputs": [],
   "source": []
  },
  {
   "cell_type": "code",
   "execution_count": null,
   "id": "83c9e1b9-cca6-4086-9cdc-8cae4cc1ac38",
   "metadata": {},
   "outputs": [],
   "source": []
  },
  {
   "cell_type": "code",
   "execution_count": null,
   "id": "cdf4a574-a6a4-4752-baa6-389f1d31472d",
   "metadata": {},
   "outputs": [],
   "source": []
  },
  {
   "cell_type": "code",
   "execution_count": 35,
   "id": "dee35c82-8d22-4542-9252-6f0efc9ac44f",
   "metadata": {},
   "outputs": [
    {
     "name": "stdout",
     "output_type": "stream",
     "text": [
      "input_text <|begin_of_text|><|start_header_id|>user<|end_header_id|>\n",
      "\n",
      "<|image|>If I had to write a haiku for this one, it would be: <|eot_id|><|start_header_id|>assistant<|end_header_id|>\n",
      "\n",
      "\n",
      "inputs dict_keys(['input_ids', 'attention_mask', 'pixel_values', 'aspect_ratio_ids', 'aspect_ratio_mask', 'cross_attention_mask']) torch.Size([1, 28]) torch.Size([1, 1, 4, 3, 560, 560])\n",
      "<|begin_of_text|><|start_header_id|>user<|end_header_id|>\n",
      "\n",
      "<|image|>If I had to write a haiku for this one, it would be: <|eot_id|><|start_header_id|>assistant<|end_header_id|>\n",
      "\n",
      "Here is a haiku for the image:\n",
      "\n",
      "Whiskers, ears so bright,\n",
      "Hopping through the countryside,\n",
      "Spring's gentle delight.<|eot_id|>\n"
     ]
    }
   ],
   "source": [
    "#single example for model generation\n",
    "\n",
    "from PIL import Image\n",
    "import requests\n",
    "\n",
    "url = \"https://huggingface.co/datasets/huggingface/documentation-images/resolve/0052a70beed5bf71b92610a43a52df6d286cd5f3/diffusers/rabbit.jpg\"\n",
    "image = Image.open(requests.get(url, stream=True).raw)\n",
    "\n",
    "messages = [\n",
    "    {\"role\": \"user\", \"content\": [\n",
    "        {\"type\": \"image\"},\n",
    "        {\"type\": \"text\", \"text\": \"If I had to write a haiku for this one, it would be: \"}\n",
    "    ]}\n",
    "]\n",
    "input_text = processor.apply_chat_template(messages, add_generation_prompt=True)\n",
    "print(\"input_text\", input_text)\n",
    "inputs = processor(\n",
    "    image,\n",
    "    input_text,\n",
    "    add_special_tokens=False,\n",
    "    return_tensors=\"pt\"\n",
    ").to(model.device)\n",
    "\n",
    "print(\"inputs\", inputs.keys(), inputs.input_ids.size(), inputs.pixel_values.size() )\n",
    "\n",
    "output = model_lora.generate(**inputs, max_new_tokens=30)\n",
    "print(processor.decode(output[0]))\n",
    "\n"
   ]
  },
  {
   "cell_type": "code",
   "execution_count": 10,
   "id": "a97435a7-31cc-4643-be62-cff7545e483a",
   "metadata": {},
   "outputs": [
    {
     "name": "stdout",
     "output_type": "stream",
     "text": [
      "input_text <|begin_of_text|><|start_header_id|>user<|end_header_id|>\n",
      "\n",
      "<|image|>If I had to write a haiku for this one, it would be: <|eot_id|><|start_header_id|>assistant<|end_header_id|>\n",
      "\n",
      "\n",
      "torch.Size([1, 28]) torch.Size([1, 1, 4, 3, 560, 560])\n"
     ]
    }
   ],
   "source": [
    "\n",
    "#single example for model generation\n",
    "\n",
    "from PIL import Image\n",
    "import requests\n",
    "\n",
    "url = \"https://huggingface.co/datasets/huggingface/documentation-images/resolve/0052a70beed5bf71b92610a43a52df6d286cd5f3/diffusers/rabbit.jpg\"\n",
    "image = Image.open(requests.get(url, stream=True).raw)\n",
    "\n",
    "messages1 = [\n",
    "    {\"role\": \"user\", \"content\": [\n",
    "        {\"type\": \"image\"},\n",
    "        {\"type\": \"text\", \"text\": \"If I had to write a haiku for this one, it would be: \"}\n",
    "    ]}\n",
    "]\n",
    "input_text = processor.apply_chat_template(messages, add_generation_prompt=True)\n",
    "print(\"input_text\", input_text)\n",
    "inputs = processor(\n",
    "    image,\n",
    "    input_text,\n",
    "    add_special_tokens=False,\n",
    "    return_tensors=\"pt\"\n",
    ")\n",
    "\n",
    "print(inputs.input_ids.shape, inputs.pixel_values.shape)\n"
   ]
  },
  {
   "cell_type": "code",
   "execution_count": null,
   "id": "37f1df8e-187a-4e35-9816-c0854b279a74",
   "metadata": {},
   "outputs": [],
   "source": []
  },
  {
   "cell_type": "code",
   "execution_count": null,
   "id": "5c5fd1fa-29ee-46ec-a8ca-775c551ecabe",
   "metadata": {},
   "outputs": [],
   "source": []
  },
  {
   "cell_type": "code",
   "execution_count": null,
   "id": "3fbe6da9-7162-40af-9d64-957d1257f51e",
   "metadata": {},
   "outputs": [],
   "source": []
  }
 ],
 "metadata": {
  "kernelspec": {
   "display_name": "Python 3 (ipykernel)",
   "language": "python",
   "name": "python3"
  },
  "language_info": {
   "codemirror_mode": {
    "name": "ipython",
    "version": 3
   },
   "file_extension": ".py",
   "mimetype": "text/x-python",
   "name": "python",
   "nbconvert_exporter": "python",
   "pygments_lexer": "ipython3",
   "version": "3.10.15"
  }
 },
 "nbformat": 4,
 "nbformat_minor": 5
}
